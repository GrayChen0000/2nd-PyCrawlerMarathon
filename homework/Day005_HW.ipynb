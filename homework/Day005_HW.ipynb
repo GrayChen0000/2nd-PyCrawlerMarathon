{
 "cells": [
  {
   "cell_type": "markdown",
   "metadata": {},
   "source": [
    "# API 資料串接 - 以 Dcard API 實作範例\n",
    "\n",
    "* 了解 Dcard API 使用方式與回傳內容\n",
    "* 撰寫程式存取 API 且解析 JSON 格式資料\n"
   ]
  },
  {
   "cell_type": "markdown",
   "metadata": {},
   "source": [
    "## 作業目標\n",
    "\n",
    "* 請利用 API: https://www.dcard.tw/_api/forums/pet/posts?popular=true 回答下列問題：\n",
    "\n",
    "1. 這個 API 一次會回傳幾筆資料？每一筆資料包含哪些欄位？\n",
    "2. 取出每一筆資料的「標題」、「貼文時間」、「留言人數」、「按讚人數」\n",
    "3. 計算熱門/非熱門文章的「平均留言人數」與「平均按讚人數」"
   ]
  },
  {
   "cell_type": "code",
   "execution_count": 2,
   "metadata": {},
   "outputs": [
    {
     "data": {
      "text/plain": [
       "'\\n一次可回傳條件判斷所有資料,資料包含API格式設定說明,取出每一筆資料的「標題」、「貼文時間」、「留言人數」、「按讚人數」\\n'"
      ]
     },
     "execution_count": 2,
     "metadata": {},
     "output_type": "execute_result"
    }
   ],
   "source": [
    "# 1. 這個 API 一次會回傳幾筆資料？每一筆資料包含哪些欄位？\n",
    "\n",
    "import requests\n",
    "r = requests.get('https://www.dcard.tw/_api/forums/job/posts?popular=true')\n",
    "response = r.text\n",
    "\n",
    "import json\n",
    "data = json.loads(response)\n",
    "\n",
    "print(len(data))"
   ]
  },
  {
   "cell_type": "code",
   "execution_count": 4,
   "metadata": {},
   "outputs": [
    {
     "name": "stdout",
     "output_type": "stream",
     "text": [
      "<請先點我> 工作板＆實習、打工職缺刊登說明\n",
      "2017-01-01T06:27:39.650Z\n",
      "37\n",
      "681\n",
      "爽缺 是你還要做嗎\n",
      "2020-03-04T03:35:25.451Z\n",
      "264\n",
      "3208\n",
      "有過爽缺經驗的感覺\n",
      "2020-03-04T11:10:57.742Z\n",
      "22\n",
      "259\n",
      "大家有覺得最近好工作難找嗎\n",
      "2020-03-04T05:18:49.942Z\n",
      "27\n",
      "78\n",
      "離開爽缺之後 曲折但勵志的求職故事（文長）\n",
      "2020-03-04T23:47:30.480Z\n",
      "10\n",
      "61\n",
      "#圖 What's in my office\n",
      "2020-03-04T09:07:32.002Z\n",
      "8\n",
      "57\n",
      "台灣年輕人是不是都很有錢啊\n",
      "2020-03-04T06:44:34.266Z\n",
      "27\n",
      "19\n",
      "不會念書也沒專長 能做什麼 未來又在哪？\n",
      "2020-03-04T13:54:46.433Z\n",
      "6\n",
      "18\n",
      "疫情真的影響就業嗎？\n",
      "2020-03-04T14:44:02.902Z\n",
      "9\n",
      "15\n",
      "摩斯漢堡的另一面\n",
      "2020-03-04T02:04:47.275Z\n",
      "9\n",
      "15\n",
      "好奇面試多少次才能找到工作？\n",
      "2020-03-04T14:35:22.262Z\n",
      "9\n",
      "14\n",
      "第一次工作到很想死\n",
      "2020-03-04T09:39:26.723Z\n",
      "9\n",
      "14\n",
      "12間 設計工作面試分享 （台中、高雄地區）\n",
      "2020-03-04T12:35:19.870Z\n",
      "4\n",
      "11\n",
      "錄取後才看到該公司的負評\n",
      "2020-03-04T01:01:43.566Z\n",
      "15\n",
      "11\n",
      "打工面試或履歷訣竅\n",
      "2020-03-04T14:03:54.131Z\n",
      "2\n",
      "10\n",
      "行政助理\n",
      "2020-03-04T03:53:33.974Z\n",
      "11\n",
      "10\n",
      "服務業算CP值最低的行業\n",
      "2020-03-05T05:17:08.959Z\n",
      "6\n",
      "9\n",
      "大家副業都做什麼呢！\n",
      "2020-03-04T04:41:24.707Z\n",
      "13\n",
      "9\n",
      "真的有這麼爛嗎？\n",
      "2020-03-04T04:00:11.635Z\n",
      "2\n",
      "8\n",
      "履歷的照片\n",
      "2020-03-04T12:49:04.695Z\n",
      "10\n",
      "7\n",
      "面試時要不要戴口罩？\n",
      "2020-03-04T07:22:29.773Z\n",
      "12\n",
      "7\n",
      "萊雅   業務助理\n",
      "2020-03-04T02:44:01.093Z\n",
      "5\n",
      "7\n",
      "被老闆認為過度玩笑\n",
      "2020-03-04T01:11:31.287Z\n",
      "13\n",
      "7\n",
      "國營小秘書工作分享_by今年滿20的小女子\n",
      "2020-03-05T03:30:32.907Z\n",
      "4\n",
      "6\n",
      "一邊上課也一邊賺錢\n",
      "2020-03-04T06:16:00.741Z\n",
      "7\n",
      "6\n",
      "逢台吃早餐請注意⚠️\n",
      "2020-03-04T05:48:02.155Z\n",
      "4\n",
      "6\n",
      "會被哭爸嗎？\n",
      "2020-03-04T23:02:44.008Z\n",
      "7\n",
      "5\n",
      "想問何時投遞履歷才最剛好....？\n",
      "2020-03-04T12:53:43.179Z\n",
      "6\n",
      "5\n",
      "請問一下有人去這間公司面試過嗎？\n",
      "2020-03-04T08:45:26.626Z\n",
      "9\n",
      "5\n",
      "大家在做什麼工作\n",
      "2020-03-05T07:12:44.072Z\n",
      "9\n",
      "4\n"
     ]
    }
   ],
   "source": [
    "# 2. 取出每一筆資料的「標題」、「貼文時間」、「留言人數」、「按讚人數」\n",
    "import requests\n",
    "r = requests.get('https://www.dcard.tw/_api/forums/job/posts?popular=true')\n",
    "response = r.text\n",
    "\n",
    "import json\n",
    "data = json.loads(response)\n",
    "\n",
    "for d in data:\n",
    "    print(d['title'])\n",
    "    print(d['createdAt'])\n",
    "    print(d['commentCount'])\n",
    "    print(d['likeCount'])"
   ]
  },
  {
   "cell_type": "code",
   "execution_count": 5,
   "metadata": {},
   "outputs": [
    {
     "name": "stdout",
     "output_type": "stream",
     "text": [
      "19.2 152.4\n",
      "2.1666666666666665 1.2333333333333334\n"
     ]
    }
   ],
   "source": [
    "# 3. 計算熱門/非熱門文章的「平均留言人數」與「平均按讚人數」\n",
    "\n",
    "import requests\n",
    "r = requests.get('https://www.dcard.tw/_api/forums/job/posts?popular=true')\n",
    "response = r.text\n",
    "\n",
    "import json\n",
    "data = json.loads(response)\n",
    "\n",
    "commentCount = 0\n",
    "likeCount = 0\n",
    "for d in data:\n",
    "    commentCount += d['commentCount']\n",
    "    likeCount += d['likeCount']\n",
    "\n",
    "print(commentCount/len(data), likeCount/len(data))\n",
    "\n",
    "r = requests.get('https://www.dcard.tw/_api/forums/job/posts?popular=false')\n",
    "response = r.text\n",
    "data = json.loads(response)\n",
    "commentCount = 0\n",
    "likeCount = 0\n",
    "for d in data:\n",
    "    commentCount += d['commentCount']\n",
    "    likeCount += d['likeCount']\n",
    "\n",
    "print(commentCount/len(data), likeCount/len(data))"
   ]
  }
 ],
 "metadata": {
  "kernelspec": {
   "display_name": "Python 3",
   "language": "python",
   "name": "python3"
  },
  "language_info": {
   "codemirror_mode": {
    "name": "ipython",
    "version": 3
   },
   "file_extension": ".py",
   "mimetype": "text/x-python",
   "name": "python",
   "nbconvert_exporter": "python",
   "pygments_lexer": "ipython3",
   "version": "3.7.4"
  }
 },
 "nbformat": 4,
 "nbformat_minor": 2
}
